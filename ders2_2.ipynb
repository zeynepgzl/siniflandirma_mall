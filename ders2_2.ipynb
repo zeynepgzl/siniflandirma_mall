{
 "cells": [
  {
   "cell_type": "code",
   "execution_count": 1,
   "metadata": {},
   "outputs": [],
   "source": [
    "isim = \"Ali\""
   ]
  },
  {
   "cell_type": "code",
   "execution_count": 2,
   "metadata": {},
   "outputs": [],
   "source": [
    "def metreyi_santime_cevir(metre):\n",
    "  return metre * 100"
   ]
  },
  {
   "cell_type": "markdown",
   "metadata": {},
   "source": [
    "3.7 metre = 370 cm 1.2 metre = 120 cm 0.8 metre = 80 cm\n",
    "\n",
    "1.5 metre = ?"
   ]
  },
  {
   "cell_type": "code",
   "execution_count": 3,
   "metadata": {},
   "outputs": [],
   "source": [
    "def ogrenci_gecti_mi(vize, final):\n",
    "  ortalama = vize * 0.4 + final * 0.6\n",
    "  if ortalama >= 50:\n",
    "    return True\n",
    "  else:\n",
    "    return False"
   ]
  },
  {
   "cell_type": "code",
   "execution_count": 4,
   "metadata": {},
   "outputs": [
    {
     "name": "stdout",
     "output_type": "stream",
     "text": [
      "Ali False\n"
     ]
    }
   ],
   "source": [
    "ali_vize = 60\n",
    "ali_final = 40\n",
    "\n",
    "print(isim + \" \" + str(ogrenci_gecti_mi(ali_vize, ali_final)))"
   ]
  },
  {
   "cell_type": "markdown",
   "metadata": {},
   "source": [
    "vize 100 final 100 gecti vize 40 final 60 gecti vize 70 final 50 gecti vize 50 final 50 gecti vize 51 final 49 kaldı vize 30 final 35 kaldi vize 0 final 0 kaldı"
   ]
  },
  {
   "cell_type": "code",
   "execution_count": 5,
   "metadata": {},
   "outputs": [],
   "source": [
    "def yolculuk_suresi_hesapla(km, hiz):\n",
    "  trafik_yogunluk_katsayisi = 0.857\n",
    "  return km / hiz * trafik_yogunluk_katsayisi"
   ]
  },
  {
   "cell_type": "code",
   "execution_count": 6,
   "metadata": {},
   "outputs": [
    {
     "name": "stdout",
     "output_type": "stream",
     "text": [
      "5.1419999999999995\n"
     ]
    }
   ],
   "source": [
    "ankara_istanbul = 600\n",
    "ortalama_hiz = 100\n",
    "\n",
    "\n",
    "\n",
    "print(yolculuk_suresi_hesapla(ankara_istanbul, ortalama_hiz))"
   ]
  },
  {
   "cell_type": "code",
   "execution_count": 7,
   "metadata": {},
   "outputs": [],
   "source": [
    "# istanbuldan ankaraya yolculuk yapmış olan 100 tane aracın yolculuk süresini bilirseniz.\n",
    "# 7 saat\n",
    "# 600 / 7 = 85.7 km/saat\n",
    "\n",
    "# 100 araç\n",
    "# 1. araç 8 saat sürdü dolayısıyla 1.5 olarak tahminlediğim katsayı aslında 0.75\n",
    "# 2. araç 7.5 saat sürdü dolayısıyla 1.5 olarak tahminlediğim katsayı aslında 0.714\n",
    "# 3. araç 16 saat sürdü dolayısıyla 1.5 olarak tahminlediğim katsayı aslında 2.25\n",
    "\n",
    "# 100. "
   ]
  },
  {
   "cell_type": "code",
   "execution_count": 8,
   "metadata": {},
   "outputs": [
    {
     "name": "stdout",
     "output_type": "stream",
     "text": [
      "merhaba dünya\n"
     ]
    }
   ],
   "source": [
    "def kucuk_harf_cevir(kelime):\n",
    "  return kelime.lower()\n",
    "\n",
    "# Örnek kullanım\n",
    "kelime = \"Merhaba Dünya\"\n",
    "print(kucuk_harf_cevir(kelime))"
   ]
  },
  {
   "cell_type": "code",
   "execution_count": 9,
   "metadata": {},
   "outputs": [],
   "source": [
    "# lineer regresyon formülü\n",
    "# y = ax + b\n",
    "\n",
    "# x = 0 iken y = 5\n",
    "# 5 = a * 0 + b\n",
    "# b = 5 \n",
    "\n",
    "# y = a * 10 + 5\n",
    "# 6.5 = a * 10 + 5\n",
    "# 1.5 = a * 10\n",
    "# a = 0.15\n",
    "\n",
    "# lineer regresyon modeli\n",
    "# a = 0.15 b = 5 ve formül (y = ax + b) den oluşur."
   ]
  }
 ],
 "metadata": {
  "kernelspec": {
   "display_name": "Python 3",
   "language": "python",
   "name": "python3"
  },
  "language_info": {
   "codemirror_mode": {
    "name": "ipython",
    "version": 3
   },
   "file_extension": ".py",
   "mimetype": "text/x-python",
   "name": "python",
   "nbconvert_exporter": "python",
   "pygments_lexer": "ipython3",
   "version": "3.12.4"
  }
 },
 "nbformat": 4,
 "nbformat_minor": 2
}

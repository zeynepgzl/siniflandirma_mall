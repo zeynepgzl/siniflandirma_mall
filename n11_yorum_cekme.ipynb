{
 "cells": [
  {
   "cell_type": "code",
   "execution_count": 1,
   "metadata": {},
   "outputs": [],
   "source": [
    "import requests"
   ]
  },
  {
   "cell_type": "code",
   "execution_count": 2,
   "metadata": {},
   "outputs": [],
   "source": [
    "cookies = {\n",
    "    'locationInfoPopup': 'true',\n",
    "    '__hapc': '691b6926-a2f7-439f-a0ce-18adae1942f1',\n",
    "    '__apc': '691b6926-a2f7-439f-a0ce-18adae1942f1',\n",
    "    '_pin_unauth': 'dWlkPVpEZGxORFV6T0RFdFpUZzVNQzAwTmpJekxXRTFPVEl0WldSaE9UVTNaVE0yWVRKbA',\n",
    "    '_p2s_cc': 'autorevoke',\n",
    "    '_p2s_uvi': '2881acae.3341608110204463.1722885332313',\n",
    "    '_ATHENA_DID': '691b6926-a2f7-439f-a0ce-18adae1942f1',\n",
    "    'agreement_notification_stat_KVKK_NOTIFICATION_GUEST_CHECKOUT': '5141',\n",
    "    'rememberMe': 'PERSISTENT4046799419-CVltLI918ExLSPtflh8oa0al7QrPd1NH-X0veWmSg2MkCSHwxuS4PCGz59CH6VqWo',\n",
    "    'eVar16': '9611857',\n",
    "    'eVar15': '1991',\n",
    "    'eVar14': 'M',\n",
    "    'eVar48': '01-May-2017',\n",
    "    'eVar51': 'NOT_VIP',\n",
    "    'eVar17': '0',\n",
    "    'hEVar': 'e90ce8ecf58ffa8c26b1e69b4c7e38d1',\n",
    "    'mf_refresh_token': '4046799419-CVltLI918ExLSPtflh8oa0al7QrPd1NH-X0veWmSg2MkCSHwxuS4PCGz59CH6VqWo',\n",
    "    'eVar49': '05-Aug-2024',\n",
    "    'mf_auth_cookie': '4046799419-CVltLI918ExLSPtflh8oa0al7QrPd1NH-X0veWmSg2MkCSHwxuS4PCGz59CH6VqWo',\n",
    "    '__hausc': 'e7a1bc52-fb38-4942-905b-e2bf1a1db31f',\n",
    "    '_cfuvid': 'oLoS8DfHmK3YgEQ2FSls_VLxYeyTq87SmM9p0Ut3g8w-1730732708952-0.0.1.1-604800000',\n",
    "    'n11_cookie_ver_1': 'true',\n",
    "    'SID': 'd875d530-f805-4531-ba89-5aaffaf1531bdfb24bd6-f22d-42e5-b70d-549382c609f6',\n",
    "    'eVar18': '111',\n",
    "    'SSO_SID': 'I|0d774a60-928a-4196-b7b1-7b5ace9ac8af',\n",
    "    'c_nurl': 'https%3A%2F%2Fwww.n11.com%2Fcomponent%2Frender%2FgroupProductReviews%3Fpage%3D1%26productId%3D642992470%26tag%3Dt%25C3%25BCm%25C3%25BC',\n",
    "    'sgmdn_9611857': '3',\n",
    "    '_ATHENA_SID': 'c7b1becc-c5cc-4bd2-ae80-ae20d21bed23',\n",
    "    'ADRUM': 's~1730829299468&r~aHR0cHMlM0ElMkYlMkZ3d3cubjExLmNvbSUyRg==',\n",
    "    '__cf_bm': 'a5xZKNUekKe4NLJPTXAzo4V9CQKIhO8msJpXm9DHNs8-1730829299-1.0.1.1-N9eIoDBkHKzqJPGR_66OZy0aRruHKa4P4fkruWuHDMbfMYts.GdjK0zgpovv8SXhkCpYBDm5RQFaMvOgKD924w',\n",
    "    '_dn_sid': '17e02d27-97a4-4119-8274-1bea62da9357',\n",
    "    'citrix_ns_id': 'AAg78FsqZzvG-38gAAAAADta2UAs0IoTFqmDO7csYp52CudbJHIQJ507UPMSXaF2Ow==IF0qZw==NY8RpHdgmR9Aglp5uFVbMlwX26w=',\n",
    "    '_derived_epik': 'dj0yJnU9dWRzMzJLczFPczg4c2VqRF9OOFB4UXFGWDduN0ZnS0ombj00R1hnd1J2V2lLVEpRUzRMTUhOS19RJm09NCZ0PUFBQUFBR2NxV19VJnJtPTQmcnQ9QUFBQUFHY3FXX1Umc3A9Mg',\n",
    "    'cto_bundle': 'X031RV9qa3JyNm9UcGc0OWE4WlVjJTJGUThnVmxIM2hoR0pqOHdmUENqODY2enl5NnFFYWdsSFhnUHBKTzdESWd6JTJCdkdQUDc0Z25MWlVCUCUyRnY0alpkbDF6REtJN214OWR0ZmpwMEtZQmE5UHBXTGNHJTJCZ1hvTEpJUlUyTnNKUCUyRlRXSUZveTRHaXRjMG9Gc3lSUkFHaTVWZiUyRmFyWnR5UlVQU3pzRjQ5ZmQzeSUyQjBwTEhYV2p1VnRWc0J1SEt0RjNwOHR0RVlyMDlQeEVtcmpBM1p4RVJERkc0MHpiQSUyRk9Pc05GJTJGOXF0d1JTNDE4U0dSNGUlMkJSWklMMEV4T1FKMmElMkJFUG44NVA1MW9SdjZRZnpVTTE1THJ2JTJCJTJCRXI4U2RndzFVeUxkbkVDMk1ZM0xTbVlXdUZhOCUyRnQlMkJyQ1lkWkZpMFNGR2Mzb1dwSQ',\n",
    "    '_ATHENA_SID_TIMEOUT': '1730831110196',\n",
    "}\n",
    "\n",
    "headers = {\n",
    "    'Accept': 'text/html, */*; q=0.01',\n",
    "    'Accept-Language': 'en-US,en;q=0.9,tr;q=0.8',\n",
    "    'Connection': 'keep-alive',\n",
    "    'Content-Type': 'application/x-www-form-urlencoded; charset=UTF-8',\n",
    "    # 'Cookie': 'locationInfoPopup=true; __hapc=691b6926-a2f7-439f-a0ce-18adae1942f1; __apc=691b6926-a2f7-439f-a0ce-18adae1942f1; _pin_unauth=dWlkPVpEZGxORFV6T0RFdFpUZzVNQzAwTmpJekxXRTFPVEl0WldSaE9UVTNaVE0yWVRKbA; _p2s_cc=autorevoke; _p2s_uvi=2881acae.3341608110204463.1722885332313; _ATHENA_DID=691b6926-a2f7-439f-a0ce-18adae1942f1; agreement_notification_stat_KVKK_NOTIFICATION_GUEST_CHECKOUT=5141; rememberMe=PERSISTENT4046799419-CVltLI918ExLSPtflh8oa0al7QrPd1NH-X0veWmSg2MkCSHwxuS4PCGz59CH6VqWo; eVar16=9611857; eVar15=1991; eVar14=M; eVar48=01-May-2017; eVar51=NOT_VIP; eVar17=0; hEVar=e90ce8ecf58ffa8c26b1e69b4c7e38d1; mf_refresh_token=4046799419-CVltLI918ExLSPtflh8oa0al7QrPd1NH-X0veWmSg2MkCSHwxuS4PCGz59CH6VqWo; eVar49=05-Aug-2024; mf_auth_cookie=4046799419-CVltLI918ExLSPtflh8oa0al7QrPd1NH-X0veWmSg2MkCSHwxuS4PCGz59CH6VqWo; __hausc=e7a1bc52-fb38-4942-905b-e2bf1a1db31f; _cfuvid=oLoS8DfHmK3YgEQ2FSls_VLxYeyTq87SmM9p0Ut3g8w-1730732708952-0.0.1.1-604800000; n11_cookie_ver_1=true; SID=d875d530-f805-4531-ba89-5aaffaf1531bdfb24bd6-f22d-42e5-b70d-549382c609f6; eVar18=111; SSO_SID=I|0d774a60-928a-4196-b7b1-7b5ace9ac8af; c_nurl=https%3A%2F%2Fwww.n11.com%2Fcomponent%2Frender%2FgroupProductReviews%3Fpage%3D1%26productId%3D642992470%26tag%3Dt%25C3%25BCm%25C3%25BC; sgmdn_9611857=3; _ATHENA_SID=c7b1becc-c5cc-4bd2-ae80-ae20d21bed23; ADRUM=s~1730829299468&r~aHR0cHMlM0ElMkYlMkZ3d3cubjExLmNvbSUyRg==; __cf_bm=a5xZKNUekKe4NLJPTXAzo4V9CQKIhO8msJpXm9DHNs8-1730829299-1.0.1.1-N9eIoDBkHKzqJPGR_66OZy0aRruHKa4P4fkruWuHDMbfMYts.GdjK0zgpovv8SXhkCpYBDm5RQFaMvOgKD924w; _dn_sid=17e02d27-97a4-4119-8274-1bea62da9357; citrix_ns_id=AAg78FsqZzvG-38gAAAAADta2UAs0IoTFqmDO7csYp52CudbJHIQJ507UPMSXaF2Ow==IF0qZw==NY8RpHdgmR9Aglp5uFVbMlwX26w=; _derived_epik=dj0yJnU9dWRzMzJLczFPczg4c2VqRF9OOFB4UXFGWDduN0ZnS0ombj00R1hnd1J2V2lLVEpRUzRMTUhOS19RJm09NCZ0PUFBQUFBR2NxV19VJnJtPTQmcnQ9QUFBQUFHY3FXX1Umc3A9Mg; cto_bundle=X031RV9qa3JyNm9UcGc0OWE4WlVjJTJGUThnVmxIM2hoR0pqOHdmUENqODY2enl5NnFFYWdsSFhnUHBKTzdESWd6JTJCdkdQUDc0Z25MWlVCUCUyRnY0alpkbDF6REtJN214OWR0ZmpwMEtZQmE5UHBXTGNHJTJCZ1hvTEpJUlUyTnNKUCUyRlRXSUZveTRHaXRjMG9Gc3lSUkFHaTVWZiUyRmFyWnR5UlVQU3pzRjQ5ZmQzeSUyQjBwTEhYV2p1VnRWc0J1SEt0RjNwOHR0RVlyMDlQeEVtcmpBM1p4RVJERkc0MHpiQSUyRk9Pc05GJTJGOXF0d1JTNDE4U0dSNGUlMkJSWklMMEV4T1FKMmElMkJFUG44NVA1MW9SdjZRZnpVTTE1THJ2JTJCJTJCRXI4U2RndzFVeUxkbkVDMk1ZM0xTbVlXdUZhOCUyRnQlMkJyQ1lkWkZpMFNGR2Mzb1dwSQ; _ATHENA_SID_TIMEOUT=1730831110196',\n",
    "    'Referer': 'https://www.n11.com/urun/roborock-q7-max-akilli-robot-supurge-beyaz-13213601',\n",
    "    'Sec-Fetch-Dest': 'empty',\n",
    "    'Sec-Fetch-Mode': 'cors',\n",
    "    'Sec-Fetch-Site': 'same-origin',\n",
    "    'User-Agent': 'Mozilla/5.0 (Macintosh; Intel Mac OS X 10_15_7) AppleWebKit/537.36 (KHTML, like Gecko) Chrome/130.0.0.0 Safari/537.36',\n",
    "    'X-Requested-With': 'XMLHttpRequest',\n",
    "    'requestType': 'AJAX',\n",
    "    'sec-ch-ua': '\"Chromium\";v=\"130\", \"Google Chrome\";v=\"130\", \"Not?A_Brand\";v=\"99\"',\n",
    "    'sec-ch-ua-mobile': '?0',\n",
    "    'sec-ch-ua-platform': '\"macOS\"',\n",
    "}\n",
    "\n",
    "params = {\n",
    "    'page': '5',\n",
    "    'productId': '559508106',\n",
    "    'tag': 'tümü',\n",
    "}"
   ]
  },
  {
   "cell_type": "code",
   "execution_count": 4,
   "metadata": {},
   "outputs": [],
   "source": [
    "cevap = requests.get(\n",
    "    'https://www.n11.com/component/render/groupProductReviews',\n",
    "    # https://www.n11.com/component/render/groupProductReviews?page=3&productId=559508106&tag=tümü\n",
    "    params=params,\n",
    "    cookies=cookies,\n",
    "    headers=headers,\n",
    ")"
   ]
  },
  {
   "cell_type": "code",
   "execution_count": 5,
   "metadata": {},
   "outputs": [
    {
     "name": "stdout",
     "output_type": "stream",
     "text": [
      "403\n"
     ]
    }
   ],
   "source": [
    "print(cevap.status_code)"
   ]
  },
  {
   "cell_type": "code",
   "execution_count": 6,
   "metadata": {},
   "outputs": [
    {
     "name": "stdout",
     "output_type": "stream",
     "text": [
      "<!DOCTYPE html>\n",
      "<!--[if lt IE 7]> <html class=\"no-js ie6 oldie\" lang=\"en-US\"> <![endif]-->\n",
      "<!--[if IE 7]>    <html class=\"no-js ie7 oldie\" lang=\"en-US\"> <![endif]-->\n",
      "<!--[if IE 8]>    <html class=\"no-js ie8 oldie\" lang=\"en-US\"> <![endif]-->\n",
      "<!--[if gt IE 8]><!--> <html class=\"no-js\" lang=\"en-US\"> <!--<![endif]-->\n",
      "<head>\n",
      "<title>Attention Required! | Cloudflare</title>\n",
      "<meta charset=\"UTF-8\" />\n",
      "<meta http-equiv=\"Content-Type\" content=\"text/html; charset=UTF-8\" />\n",
      "<meta http-equiv=\"X-UA-Compatible\" content=\"IE=Edge\" />\n",
      "<meta name=\"robots\" content=\"noindex, nofollow\" />\n",
      "<meta name=\"viewport\" content=\"width=device-width,initial-scale=1\" />\n",
      "<link rel=\"stylesheet\" id=\"cf_styles-css\" href=\"/cdn-cgi/styles/cf.errors.css\" />\n",
      "<!--[if lt IE 9]><link rel=\"stylesheet\" id='cf_styles-ie-css' href=\"/cdn-cgi/styles/cf.errors.ie.css\" /><![endif]-->\n",
      "<style>body{margin:0;padding:0}</style>\n",
      "\n",
      "\n",
      "<!--[if gte IE 10]><!-->\n",
      "<script>\n",
      "  if (!navigator.cookieEnabled) {\n",
      "    window.addEventListener('DOMContentLoaded', function () {\n",
      "      var cookieEl = document.getElementById('cookie-alert');\n",
      "      cookieEl.style.display = 'block';\n",
      "    })\n",
      "  }\n",
      "</script>\n",
      "<!--<![endif]-->\n",
      "\n",
      "\n",
      "</head>\n",
      "<body>\n",
      "  <div id=\"cf-wrapper\">\n",
      "    <div class=\"cf-alert cf-alert-error cf-cookie-error\" id=\"cookie-alert\" data-translate=\"enable_cookies\">Please enable cookies.</div>\n",
      "    <div id=\"cf-error-details\" class=\"cf-error-details-wrapper\">\n",
      "      <div class=\"cf-wrapper cf-header cf-error-overview\">\n",
      "        <h1 data-translate=\"block_headline\">Sorry, you have been blocked</h1>\n",
      "        <h2 class=\"cf-subheadline\"><span data-translate=\"unable_to_access\">You are unable to access</span> n11.com</h2>\n",
      "      </div><!-- /.header -->\n",
      "\n",
      "      <div class=\"cf-section cf-highlight\">\n",
      "        <div class=\"cf-wrapper\">\n",
      "          <div class=\"cf-screenshot-container cf-screenshot-full\">\n",
      "            \n",
      "              <span class=\"cf-no-screenshot error\"></span>\n",
      "            \n",
      "          </div>\n",
      "        </div>\n",
      "      </div><!-- /.captcha-container -->\n",
      "\n",
      "      <div class=\"cf-section cf-wrapper\">\n",
      "        <div class=\"cf-columns two\">\n",
      "          <div class=\"cf-column\">\n",
      "            <h2 data-translate=\"blocked_why_headline\">Why have I been blocked?</h2>\n",
      "\n",
      "            <p data-translate=\"blocked_why_detail\">This website is using a security service to protect itself from online attacks. The action you just performed triggered the security solution. There are several actions that could trigger this block including submitting a certain word or phrase, a SQL command or malformed data.</p>\n",
      "          </div>\n",
      "\n",
      "          <div class=\"cf-column\">\n",
      "            <h2 data-translate=\"blocked_resolve_headline\">What can I do to resolve this?</h2>\n",
      "\n",
      "            <p data-translate=\"blocked_resolve_detail\">You can email the site owner to let them know you were blocked. Please include what you were doing when this page came up and the Cloudflare Ray ID found at the bottom of this page.</p>\n",
      "          </div>\n",
      "        </div>\n",
      "      </div><!-- /.section -->\n",
      "\n",
      "      <div class=\"cf-error-footer cf-wrapper w-240 lg:w-full py-10 sm:py-4 sm:px-8 mx-auto text-center sm:text-left border-solid border-0 border-t border-gray-300\">\n",
      "  <p class=\"text-13\">\n",
      "    <span class=\"cf-footer-item sm:block sm:mb-1\">Cloudflare Ray ID: <strong class=\"font-semibold\">8e7be26e5ed1e32e</strong></span>\n",
      "    <span class=\"cf-footer-separator sm:hidden\">&bull;</span>\n",
      "    <span id=\"cf-footer-item-ip\" class=\"cf-footer-item hidden sm:block sm:mb-1\">\n",
      "      Your IP:\n",
      "      <button type=\"button\" id=\"cf-footer-ip-reveal\" class=\"cf-footer-ip-reveal-btn\">Click to reveal</button>\n",
      "      <span class=\"hidden\" id=\"cf-footer-ip\">88.236.160.101</span>\n",
      "      <span class=\"cf-footer-separator sm:hidden\">&bull;</span>\n",
      "    </span>\n",
      "    <span class=\"cf-footer-item sm:block sm:mb-1\"><span>Performance &amp; security by</span> <a rel=\"noopener noreferrer\" href=\"https://www.cloudflare.com/5xx-error-landing\" id=\"brand_link\" target=\"_blank\">Cloudflare</a></span>\n",
      "    \n",
      "  </p>\n",
      "  <script>(function(){function d(){var b=a.getElementById(\"cf-footer-item-ip\"),c=a.getElementById(\"cf-footer-ip-reveal\");b&&\"classList\"in b&&(b.classList.remove(\"hidden\"),c.addEventListener(\"click\",function(){c.classList.add(\"hidden\");a.getElementById(\"cf-footer-ip\").classList.remove(\"hidden\")}))}var a=document;document.addEventListener&&a.addEventListener(\"DOMContentLoaded\",d)})();</script>\n",
      "</div><!-- /.error-footer -->\n",
      "\n",
      "\n",
      "    </div><!-- /#cf-error-details -->\n",
      "  </div><!-- /#cf-wrapper -->\n",
      "\n",
      "  <script>\n",
      "  window._cf_translation = {};\n",
      "  \n",
      "  \n",
      "</script>\n",
      "\n",
      "</body>\n",
      "</html>\n",
      "\n"
     ]
    }
   ],
   "source": [
    "print(cevap.text)"
   ]
  },
  {
   "cell_type": "code",
   "execution_count": 7,
   "metadata": {},
   "outputs": [
    {
     "data": {
      "text/plain": [
       "' \\n<li class=\"comment\" data-reviewid=\"5101837215\">\\n\\n              <div class=\"commentTop \">\\n                <div class=\"ratingCont\">\\n                  <span class=\"rating r100\"></span>\\n                </div>\\n                <span class=\"commentDate\">\\n                  11.10.2024\\n                </span>\\n              </div>\\n\\n\\n              <p>Ürün Yenı geldı kullandım sımdılık cok guzel satıcı çok ılgılı rahatlıkla alışveriş yapabılırısnız\\n                satıcıya ılgısınden dolayı tsk ederım</p>\\n\\n\\n              <div class=\"feedbackHolder\">\\n                <span class=\"userName\">\\n                  ü*** Y***\\n                </span>\\n                <span class=\"btnComment yesBtn\"><i class=\"comment-icon\"></i>0</span>\\n              </div>\\n              <span class=\"sellerNickname\">Kullanıcı bu ürünü <b>LUCKYTREND</b> satıcısından aldı.</span>\\n            </li>\\n '"
      ]
     },
     "execution_count": 7,
     "metadata": {},
     "output_type": "execute_result"
    }
   ],
   "source": [
    "import re\n",
    "\n",
    "\"\"\" \n",
    "<li class=\"comment\" data-reviewid=\"5101837215\">\n",
    "\n",
    "              <div class=\"commentTop \">\n",
    "                <div class=\"ratingCont\">\n",
    "                  <span class=\"rating r100\"></span>\n",
    "                </div>\n",
    "                <span class=\"commentDate\">\n",
    "                  11.10.2024\n",
    "                </span>\n",
    "              </div>\n",
    "\n",
    "\n",
    "              <p>Ürün Yenı geldı kullandım sımdılık cok guzel satıcı çok ılgılı rahatlıkla alışveriş yapabılırısnız\n",
    "                satıcıya ılgısınden dolayı tsk ederım</p>\n",
    "\n",
    "\n",
    "              <div class=\"feedbackHolder\">\n",
    "                <span class=\"userName\">\n",
    "                  ü*** Y***\n",
    "                </span>\n",
    "                <span class=\"btnComment yesBtn\"><i class=\"comment-icon\"></i>0</span>\n",
    "              </div>\n",
    "              <span class=\"sellerNickname\">Kullanıcı bu ürünü <b>LUCKYTREND</b> satıcısından aldı.</span>\n",
    "            </li>\n",
    " \"\"\""
   ]
  },
  {
   "cell_type": "code",
   "execution_count": 9,
   "metadata": {},
   "outputs": [],
   "source": [
    "# <span class=\"rating r100\"></span>\n",
    "\n",
    "rating_pattern = re.compile(r'<span class=\"rating r(\\d+)\"></span>')\n",
    "\n",
    "all_ratings = rating_pattern.findall(cevap.text)\n",
    "\n",
    "for rating in all_ratings:\n",
    "    print(rating)"
   ]
  },
  {
   "cell_type": "code",
   "execution_count": 10,
   "metadata": {},
   "outputs": [
    {
     "data": {
      "text/plain": [
       "0"
      ]
     },
     "execution_count": 10,
     "metadata": {},
     "output_type": "execute_result"
    }
   ],
   "source": [
    "date_pattern = re.compile(r'<span class=\"commentDate\">\\s*(\\d+\\.\\d+\\.\\d+)\\s*</span>')\n",
    "all_dates = date_pattern.findall(cevap.text)\n",
    "\n",
    "for date in all_dates:\n",
    "    print(date)\n",
    "\n",
    "len(all_dates)"
   ]
  },
  {
   "cell_type": "code",
   "execution_count": 11,
   "metadata": {},
   "outputs": [
    {
     "data": {
      "text/plain": [
       "0"
      ]
     },
     "execution_count": 11,
     "metadata": {},
     "output_type": "execute_result"
    }
   ],
   "source": [
    "comment_pattern = re.compile(r'<p>(.*?)</p>')\n",
    "all_comments = comment_pattern.findall(cevap.text)\n",
    "\n",
    "for comment in all_comments:\n",
    "    print(comment)\n",
    "\n",
    "len(all_comments)"
   ]
  },
  {
   "cell_type": "code",
   "execution_count": 13,
   "metadata": {},
   "outputs": [
    {
     "data": {
      "text/plain": [
       "[]"
      ]
     },
     "execution_count": 13,
     "metadata": {},
     "output_type": "execute_result"
    }
   ],
   "source": [
    "yorumlar = []\n",
    "\n",
    "for i in range(len(all_ratings)):\n",
    "    yorumlar.append({\n",
    "        'puan': all_ratings[i],\n",
    "        'tarih': all_dates[i],\n",
    "        'yorum': all_comments[i],\n",
    "    })\n",
    "\n",
    "yorumlar"
   ]
  },
  {
   "cell_type": "code",
   "execution_count": 14,
   "metadata": {},
   "outputs": [
    {
     "data": {
      "text/html": [
       "<div>\n",
       "<style scoped>\n",
       "    .dataframe tbody tr th:only-of-type {\n",
       "        vertical-align: middle;\n",
       "    }\n",
       "\n",
       "    .dataframe tbody tr th {\n",
       "        vertical-align: top;\n",
       "    }\n",
       "\n",
       "    .dataframe thead th {\n",
       "        text-align: right;\n",
       "    }\n",
       "</style>\n",
       "<table border=\"1\" class=\"dataframe\">\n",
       "  <thead>\n",
       "    <tr style=\"text-align: right;\">\n",
       "      <th></th>\n",
       "    </tr>\n",
       "  </thead>\n",
       "  <tbody>\n",
       "  </tbody>\n",
       "</table>\n",
       "</div>"
      ],
      "text/plain": [
       "Empty DataFrame\n",
       "Columns: []\n",
       "Index: []"
      ]
     },
     "execution_count": 14,
     "metadata": {},
     "output_type": "execute_result"
    }
   ],
   "source": [
    "import pandas as pd\n",
    "\n",
    "df = pd.DataFrame(yorumlar)\n",
    "df"
   ]
  },
  {
   "cell_type": "code",
   "execution_count": 15,
   "metadata": {},
   "outputs": [],
   "source": [
    "df.to_csv('n11_yorumlar.csv', index=False, encoding='utf-8')"
   ]
  },
  {
   "cell_type": "code",
   "execution_count": 16,
   "metadata": {},
   "outputs": [],
   "source": [
    "def n11_yorum_cek(sayfa_no, urun_id):\n",
    "  params = {\n",
    "    'page': sayfa_no,\n",
    "    'productId': urun_id,\n",
    "    'tag': 'tümü',\n",
    "  }\n",
    "\n",
    "  cevap = requests.get(\n",
    "    'https://www.n11.com/component/render/groupProductReviews',\n",
    "    params=params,\n",
    "    cookies=cookies,\n",
    "    headers=headers,\n",
    "  )\n",
    "\n",
    "  rating_pattern = re.compile(r'<span class=\"rating r(\\d+)\"></span>')\n",
    "  date_pattern = re.compile(r'<span class=\"commentDate\">\\s*(\\d+\\.\\d+\\.\\d+)\\s*</span>')\n",
    "  comment_pattern = re.compile(r'<p>(.*?)</p>')\n",
    "\n",
    "  all_ratings = rating_pattern.findall(cevap.text)\n",
    "  all_dates = date_pattern.findall(cevap.text)\n",
    "  all_comments = comment_pattern.findall(cevap.text)\n",
    "\n",
    "  yorumlar = []\n",
    "\n",
    "  for i in range(len(all_ratings)):\n",
    "    yorumlar.append({\n",
    "        'puan': all_ratings[i],\n",
    "        'tarih': all_dates[i],\n",
    "        'yorum': all_comments[i],\n",
    "    })\n",
    "\n",
    "  return yorumlar"
   ]
  },
  {
   "cell_type": "code",
   "execution_count": 17,
   "metadata": {},
   "outputs": [
    {
     "data": {
      "text/plain": [
       "[]"
      ]
     },
     "execution_count": 17,
     "metadata": {},
     "output_type": "execute_result"
    }
   ],
   "source": [
    "sayfa_12 = n11_yorum_cek(12, 559508106)\n",
    "sayfa_12"
   ]
  },
  {
   "cell_type": "code",
   "execution_count": 18,
   "metadata": {},
   "outputs": [],
   "source": [
    "tum_yorumlar = []\n",
    "\n",
    "sayfa_no = 1\n",
    "\n",
    "while True:\n",
    "  yorumlar = n11_yorum_cek(sayfa_no, 559508106)\n",
    "  if len(yorumlar) == 0:\n",
    "    break\n",
    "  tum_yorumlar.extend(yorumlar)\n",
    "  print(f'{sayfa_no}. sayfa çekildi.')\n",
    "  sayfa_no += 1"
   ]
  },
  {
   "cell_type": "code",
   "execution_count": 19,
   "metadata": {},
   "outputs": [],
   "source": [
    "tum_yorumlar_df = pd.DataFrame(tum_yorumlar)\n",
    "tum_yorumlar_df.to_csv('n11_yorumlar.csv', index=False, encoding='utf-8')"
   ]
  }
 ],
 "metadata": {
  "kernelspec": {
   "display_name": "Python 3",
   "language": "python",
   "name": "python3"
  },
  "language_info": {
   "codemirror_mode": {
    "name": "ipython",
    "version": 3
   },
   "file_extension": ".py",
   "mimetype": "text/x-python",
   "name": "python",
   "nbconvert_exporter": "python",
   "pygments_lexer": "ipython3",
   "version": "3.12.4"
  }
 },
 "nbformat": 4,
 "nbformat_minor": 2
}

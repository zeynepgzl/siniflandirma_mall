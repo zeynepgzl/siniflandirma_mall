{
 "cells": [
  {
   "cell_type": "markdown",
   "metadata": {},
   "source": [
    "CSV Comma Seperated Values, virgülle ayrılmış değerler anlamına gelir."
   ]
  },
  {
   "cell_type": "code",
   "execution_count": 1,
   "metadata": {},
   "outputs": [
    {
     "name": "stdout",
     "output_type": "stream",
     "text": [
      "Requirement already satisfied: pandas in c:\\users\\lenovo\\appdata\\local\\programs\\python\\python312\\lib\\site-packages (2.2.3)\n",
      "Requirement already satisfied: numpy>=1.26.0 in c:\\users\\lenovo\\appdata\\local\\programs\\python\\python312\\lib\\site-packages (from pandas) (2.1.2)\n",
      "Requirement already satisfied: python-dateutil>=2.8.2 in c:\\users\\lenovo\\appdata\\local\\programs\\python\\python312\\lib\\site-packages (from pandas) (2.9.0.post0)\n",
      "Requirement already satisfied: pytz>=2020.1 in c:\\users\\lenovo\\appdata\\local\\programs\\python\\python312\\lib\\site-packages (from pandas) (2024.2)\n",
      "Requirement already satisfied: tzdata>=2022.7 in c:\\users\\lenovo\\appdata\\local\\programs\\python\\python312\\lib\\site-packages (from pandas) (2024.2)\n",
      "Requirement already satisfied: six>=1.5 in c:\\users\\lenovo\\appdata\\local\\programs\\python\\python312\\lib\\site-packages (from python-dateutil>=2.8.2->pandas) (1.16.0)\n",
      "Note: you may need to restart the kernel to use updated packages.\n"
     ]
    },
    {
     "name": "stderr",
     "output_type": "stream",
     "text": [
      "\n",
      "[notice] A new release of pip is available: 24.2 -> 24.3.1\n",
      "[notice] To update, run: python.exe -m pip install --upgrade pip\n"
     ]
    }
   ],
   "source": [
    "%pip install pandas"
   ]
  },
  {
   "cell_type": "code",
   "execution_count": 2,
   "metadata": {},
   "outputs": [],
   "source": [
    "import pandas as pd"
   ]
  },
  {
   "cell_type": "code",
   "execution_count": 3,
   "metadata": {},
   "outputs": [
    {
     "data": {
      "text/plain": [
       "bool"
      ]
     },
     "execution_count": 3,
     "metadata": {},
     "output_type": "execute_result"
    }
   ],
   "source": [
    "# değişken tanımlama define (fonksiyon/işlem) veya declare(değişken) variable\n",
    "# isim değişkenimizin (variable) ismi, değeri (value) ise \"ali\"\n",
    "# ali değerini isim değişkenine atayan operatör \"=\"\n",
    "\n",
    "# İlkel (Primitive) veri tipleri / diğer bütün veri tipleri bu veri tiplerinden türetilmiştir\n",
    "isim = \"gizem\"\n",
    "# değişkenimizin tipi string yani metinsel bir ifade\n",
    "yas = 25\n",
    "# değişkenimizin tipi integer yani tam sayı\n",
    "sicaklik = 25.5\n",
    "# değişkenimizin tipi float (double) yani ondalıklı sayı\n",
    "dogru_mu = True\n",
    "# değişkenimizin tipi boolean yani doğru yanlış\n",
    "# değişkenlerin tipini öğrenmek için type fonksiyonunu kullanabiliriz\n",
    "type(dogru_mu)"
   ]
  },
  {
   "cell_type": "code",
   "execution_count": 4,
   "metadata": {},
   "outputs": [
    {
     "data": {
      "text/plain": [
       "str"
      ]
     },
     "execution_count": 4,
     "metadata": {},
     "output_type": "execute_result"
    }
   ],
   "source": [
    "telefon_numarasi = \"05512345678\"\n",
    "type(telefon_numarasi)"
   ]
  },
  {
   "cell_type": "code",
   "execution_count": 5,
   "metadata": {},
   "outputs": [
    {
     "name": "stdout",
     "output_type": "stream",
     "text": [
      "elma {'muz', 'armut', 'elma'} 1\n"
     ]
    }
   ],
   "source": [
    "# koleksiyonlar (collections)\n",
    "# listeler (list) / dizi (array)\n",
    "alinacaklar_listesi = [\"elma\", \"armut\", \"muz\", \"elma\"]\n",
    "\n",
    "# kümeler (set)\n",
    "alinacaklar_kumesi = {\"elma\", \"armut\", \"muz\", \"elma\"}\n",
    "\n",
    "# sözlükler (dictionary) / hash table / map\n",
    "alinacaklar_sozlugu = {\"elma\": 3, \"armut\": 5, \"muz\": 2, \"elma\": 1, 0: False}\n",
    "# sözlüklerin keyleri (anahtarları) unique olmalıdır\n",
    "# yani bir sözlükte aynı keyden birden fazla olamaz\n",
    "# string, integer anahtar, değer çiftlerinden oluşan bir sözlük (dictionary) dict = {key: value}\n",
    "\n",
    "print(alinacaklar_listesi[0], alinacaklar_kumesi, alinacaklar_sozlugu['elma'])"
   ]
  },
  {
   "cell_type": "markdown",
   "metadata": {},
   "source": [
    "int i = 0;while (i < 10) {\n",
    "      printf(\"%d\\n\", i); \n",
    "  i++;}"
   ]
  },
  {
   "cell_type": "code",
   "execution_count": null,
   "metadata": {},
   "outputs": [],
   "source": []
  }
 ],
 "metadata": {
  "kernelspec": {
   "display_name": "Python 3",
   "language": "python",
   "name": "python3"
  },
  "language_info": {
   "codemirror_mode": {
    "name": "ipython",
    "version": 3
   },
   "file_extension": ".py",
   "mimetype": "text/x-python",
   "name": "python",
   "nbconvert_exporter": "python",
   "pygments_lexer": "ipython3",
   "version": "3.12.4"
  }
 },
 "nbformat": 4,
 "nbformat_minor": 2
}
